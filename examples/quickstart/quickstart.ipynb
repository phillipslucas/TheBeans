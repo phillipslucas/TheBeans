{
 "cells": [
  {
   "cell_type": "markdown",
   "metadata": {},
   "source": [
    "[![image](https://colab.research.google.com/assets/colab-badge.svg)](https://colab.research.google.com/github/phillipslucas/TheBeans/blob/main/docs/examples/quickstart.ipynb)"
   ]
  },
  {
   "cell_type": "code",
   "execution_count": null,
   "metadata": {},
   "outputs": [],
   "source": [
    "pip install thebeans\n",
    "\n",
    "##Uncomment if running in colab\n",
    "# !pip install --upgrade pip\n",
    "# !pip install 'localtileserver[jupyter]>=0.7.1'"
   ]
  },
  {
   "cell_type": "code",
   "execution_count": null,
   "metadata": {},
   "outputs": [],
   "source": [
    "#Import thebeans and initiate a map object.\n",
    "\n",
    "import thebeans\n",
    "\n",
    "m = thebeans.Map()\n",
    "\n",
    "m"
   ]
  },
  {
   "cell_type": "code",
   "execution_count": null,
   "metadata": {},
   "outputs": [],
   "source": [
    "#Checkout toolbar and map widget navigation aids.\n",
    "\n",
    "m.add_toolbar() \n",
    "m.add_latlong_widget()"
   ]
  },
  {
   "cell_type": "code",
   "execution_count": null,
   "metadata": {},
   "outputs": [],
   "source": [
    "#Explore map functionality tools\n",
    "\n",
    "m.add_opacity_slider(position= \"topleft\")\n",
    "m.add_zoom_slider()\n",
    "m.add_basemap(\"Esri.WorldImagery\")"
   ]
  },
  {
   "cell_type": "code",
   "execution_count": null,
   "metadata": {},
   "outputs": [],
   "source": [
    "#Add rasters and images to the map through the map object.\n",
    "\n",
    "m.add_raster(\"https://github.com/phillipslucas/databeans/releases/download/v0.0.1/cub30int.tif\")\n",
    "# m.add_image()\n",
    "# m.add_tile_layer()\n",
    "\n",
    "m"
   ]
  },
  {
   "cell_type": "code",
   "execution_count": null,
   "metadata": {},
   "outputs": [],
   "source": [
    "#Add vectors to the map through the map object.\n",
    "\n",
    "m.add_vector(\"https://github.com/phillipslucas/databeans/releases/download/v0.0.1/StudyBox.geojson\")\n",
    "# m.add_shp()\n",
    "# m.add_geojson()\n"
   ]
  },
  {
   "cell_type": "code",
   "execution_count": null,
   "metadata": {},
   "outputs": [],
   "source": [
    "#Casually create a hydrologic network and visualize the outputs in matplotlib plots.\n",
    "\n",
    "\n",
    "m.add_casual_hydrologic_network()"
   ]
  }
 ],
 "metadata": {
  "kernelspec": {
   "display_name": "geo",
   "language": "python",
   "name": "python3"
  },
  "language_info": {
   "codemirror_mode": {
    "name": "ipython",
    "version": 3
   },
   "file_extension": ".py",
   "mimetype": "text/x-python",
   "name": "python",
   "nbconvert_exporter": "python",
   "pygments_lexer": "ipython3",
   "version": "3.11.8"
  }
 },
 "nbformat": 4,
 "nbformat_minor": 2
}
