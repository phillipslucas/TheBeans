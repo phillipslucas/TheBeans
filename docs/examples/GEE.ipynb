{
 "cells": [
  {
   "cell_type": "code",
   "execution_count": null,
   "metadata": {},
   "outputs": [],
   "source": [
    "import ee"
   ]
  },
  {
   "cell_type": "code",
   "execution_count": null,
   "metadata": {},
   "outputs": [],
   "source": [
    "ee.Authenticate()\n",
    "ee.Initialize()"
   ]
  },
  {
   "cell_type": "code",
   "execution_count": null,
   "metadata": {},
   "outputs": [],
   "source": [
    "import geemap"
   ]
  },
  {
   "cell_type": "code",
   "execution_count": null,
   "metadata": {},
   "outputs": [],
   "source": [
    "def mask_edge(image):\n",
    "  edge = image.lt(-30.0)\n",
    "  masked_image = image.mask().And(edge.Not())\n",
    "  return image.updateMask(masked_image)\n",
    "\n",
    "\n",
    "img_vv = (\n",
    "    ee.ImageCollection('COPERNICUS/S1_GRD')\n",
    "    .filter(ee.Filter.listContains('transmitterReceiverPolarisation', 'VV'))\n",
    "    .filter(ee.Filter.eq('instrumentMode', 'IW'))\n",
    "    .select('VV')\n",
    "    .map(mask_edge)\n",
    ")\n",
    "\n",
    "desc = img_vv.filter(ee.Filter.eq('orbitProperties_pass', 'DESCENDING'))\n",
    "asc = img_vv.filter(ee.Filter.eq('orbitProperties_pass', 'ASCENDING'))\n",
    "\n",
    "PreFire = ee.Filter.date('2021-06-01', '2021-07-08')\n",
    "PostFirePreSlide = ee.Filter.date('2022-06-01', '2022-07-03')\n",
    "PostSlide = ee.Filter.date('2022-07-05', '2022-09-30')\n",
    "\n",
    "desc_change = ee.Image.cat(\n",
    "    desc.filter(PreFire).mean(),\n",
    "    desc.filter(PostFirePreSlide).mean(),\n",
    "    desc.filter(PostSlide).mean(),\n",
    ")\n",
    "\n",
    "asc_change = ee.Image.cat(\n",
    "    asc.filter(PreFire).mean(),\n",
    "    asc.filter(PostFirePreSlide).mean(),\n",
    "    asc.filter(PostSlide).mean(),\n",
    ")\n",
    "\n",
    "m = geemap.Map()\n",
    "m.set_center(48.5,-120.2, 6)\n",
    "m.add_layer(asc_change, {'min': -25, 'max': 5}, 'Multi-T Mean ASC', True)\n",
    "m.add_layer(desc_change, {'min': -25, 'max': 5}, 'Multi-T Mean DESC', True)\n",
    "m.add_geojson('StudyArea.geojson')\n",
    "\n",
    "m\n"
   ]
  }
 ],
 "metadata": {
  "language_info": {
   "name": "python"
  }
 },
 "nbformat": 4,
 "nbformat_minor": 2
}
