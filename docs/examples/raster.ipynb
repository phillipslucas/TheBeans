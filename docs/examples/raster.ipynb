{
 "cells": [
  {
   "cell_type": "code",
   "execution_count": 2,
   "metadata": {},
   "outputs": [
    {
     "data": {
      "application/vnd.jupyter.widget-view+json": {
       "model_id": "ce63da4b4d484c948f46283a2829f0ed",
       "version_major": 2,
       "version_minor": 0
      },
      "text/plain": [
       "Map(center=[52.204793, 360.121558], controls=(ZoomControl(options=['position', 'zoom_in_text', 'zoom_in_title'…"
      ]
     },
     "execution_count": 2,
     "metadata": {},
     "output_type": "execute_result"
    }
   ],
   "source": [
    "from ipyleaflet import Map, ImageOverlay\n",
    "\n",
    "m = Map(center=(52.204793, 360.121558), zoom=3)\n",
    "\n",
    "image = ImageOverlay(\n",
    "    url = 'https://ipyleaflet.readthedocs.io/en/latest/_images/ipyleaflet.png',\n",
    "    bounds = ((32, -130), (13, -100))\n",
    ")\n",
    "\n",
    "m.add(image)\n",
    "m"
   ]
  },
  {
   "cell_type": "code",
   "execution_count": null,
   "metadata": {},
   "outputs": [],
   "source": [
    "import thebeans"
   ]
  },
  {
   "cell_type": "code",
   "execution_count": null,
   "metadata": {},
   "outputs": [],
   "source": [
    "m = thebeans.Map()\n",
    "m"
   ]
  },
  {
   "cell_type": "code",
   "execution_count": null,
   "metadata": {},
   "outputs": [],
   "source": [
    "m = thebeans.Map()\n",
    "\n",
    "url = \"https://i.imgur.com/06Q1fSz.png\"\n",
    "bounds = ()"
   ]
  },
  {
   "cell_type": "code",
   "execution_count": 1,
   "metadata": {},
   "outputs": [
    {
     "data": {
      "application/vnd.jupyter.widget-view+json": {
       "model_id": "b5a70aca03e04e10bac9c9c7ba6cc310",
       "version_major": 2,
       "version_minor": 0
      },
      "text/plain": [
       "Map(center=[37.752215, -122.418776], controls=(ZoomControl(options=['position', 'zoom_in_text', 'zoom_in_title…"
      ]
     },
     "execution_count": 1,
     "metadata": {},
     "output_type": "execute_result"
    }
   ],
   "source": [
    "from localtileserver import TileClient, get_leaflet_tile_layer, examples\n",
    "from ipyleaflet import Map\n",
    "\n",
    "# Create a TileClient from a raster file\n",
    "# client = TileClient('path/to/geo.tif')\n",
    "client = examples.get_san_francisco()  # use example data\n",
    "\n",
    "# Create ipyleaflet TileLayer from that server\n",
    "t = get_leaflet_tile_layer(client)\n",
    "# Create ipyleaflet map, add tile layer, and display\n",
    "m = Map(center=client.center(), zoom=client.default_zoom)\n",
    "m.add(t)\n",
    "m"
   ]
  },
  {
   "cell_type": "code",
   "execution_count": 2,
   "metadata": {},
   "outputs": [
    {
     "data": {
      "text/plain": [
       "(TileLayer(attribution='&copy; <a href=\"https://www.openstreetmap.org/copyright\">OpenStreetMap</a> contributors', base=True, max_zoom=19, min_zoom=1, name='OpenStreetMap.Mapnik', options=['attribution', 'bounds', 'detect_retina', 'max_native_zoom', 'max_zoom', 'min_native_zoom', 'min_zoom', 'no_wrap', 'tile_size', 'tms', 'zoom_offset'], url='https://tile.openstreetmap.org/{z}/{x}/{y}.png'),\n",
       " BoundTileLayer(attribution=\"Raster file served by <a href='https://github.com/banesullivan/localtileserver' target='_blank'>localtileserver</a>.\", bounds=((37.452199, -122.718792), (38.052231, -122.11876)), max_native_zoom=30, max_zoom=30, options=['attribution', 'bounds', 'detect_retina', 'max_native_zoom', 'max_zoom', 'min_native_zoom', 'min_zoom', 'no_wrap', 'tile_size', 'tms', 'zoom_offset'], show_loading=True, url='http://localhost:63464/api/tiles/{z}/{x}/{y}.png?&filename=%2Fvsicurl%3Furl%3Dhttps%253A%252F%252Fdata.kitware.com%252Fapi%252Fv1%252Ffile%252F626854a14acac99f42126a74%252Fdownload%26use_head%3Dno%26list_dir%3Dno'))"
      ]
     },
     "execution_count": 2,
     "metadata": {},
     "output_type": "execute_result"
    }
   ],
   "source": [
    "m.layers"
   ]
  },
  {
   "cell_type": "code",
   "execution_count": 3,
   "metadata": {},
   "outputs": [
    {
     "data": {
      "text/plain": [
       "(37.752215, -122.418776)"
      ]
     },
     "execution_count": 3,
     "metadata": {},
     "output_type": "execute_result"
    }
   ],
   "source": [
    "client.center()"
   ]
  },
  {
   "cell_type": "code",
   "execution_count": 4,
   "metadata": {},
   "outputs": [
    {
     "data": {
      "text/plain": [
       "9"
      ]
     },
     "execution_count": 4,
     "metadata": {},
     "output_type": "execute_result"
    }
   ],
   "source": [
    "client.default_zoom"
   ]
  },
  {
   "cell_type": "code",
   "execution_count": 5,
   "metadata": {},
   "outputs": [],
   "source": [
    "m.center = client.center()\n",
    "#we want to get the specificts from the server\n"
   ]
  },
  {
   "cell_type": "code",
   "execution_count": 6,
   "metadata": {},
   "outputs": [
    {
     "data": {
      "application/vnd.jupyter.widget-view+json": {
       "model_id": "0ee10cd9483e47409de0ef24300fe904",
       "version_major": 2,
       "version_minor": 0
      },
      "text/plain": [
       "Map(center=[37.752215, -122.418776], controls=(ZoomControl(options=['position', 'zoom_in_text', 'zoom_in_title…"
      ]
     },
     "execution_count": 6,
     "metadata": {},
     "output_type": "execute_result"
    }
   ],
   "source": [
    "from localtileserver import TileClient, get_leaflet_tile_layer, examples\n",
    "from ipyleaflet import Map\n",
    "\n",
    "# Create a TileClient from a raster file\n",
    "# client = TileClient('path/to/geo.tif') #local path to image, lots of example data in Dr Wu repo, downloaded .tif and passed to colormap with elevation\n",
    "client = examples.get_san_francisco()  # use example data\n",
    "\n",
    "# Create ipyleaflet TileLayer from that server\n",
    "t = get_leaflet_tile_layer(client)\n",
    "# Create ipyleaflet map, add tile layer, and display\n",
    "m = Map()\n",
    "m.add(t)\n",
    "m.center = client.center()\n",
    "m.zoom = client.default_zoom\n",
    "m"
   ]
  },
  {
   "cell_type": "code",
   "execution_count": null,
   "metadata": {},
   "outputs": [],
   "source": [
    "m = thebeans.Map()\n",
    "data = #local data\n",
    "m.add_raster(data)\n",
    "m"
   ]
  },
  {
   "cell_type": "code",
   "execution_count": null,
   "metadata": {},
   "outputs": [],
   "source": []
  },
  {
   "cell_type": "code",
   "execution_count": null,
   "metadata": {},
   "outputs": [],
   "source": [
    "m.layers[-1].url #gets url of the last tile layer, indexing layers to get the last one. 0 is the basemap"
   ]
  },
  {
   "cell_type": "code",
   "execution_count": null,
   "metadata": {},
   "outputs": [],
   "source": [
    "#Anything you add to the map is a widget\n",
    "m.layers[-1].interact(opacity=(0.0, 1.0, 0.01))"
   ]
  }
 ],
 "metadata": {
  "kernelspec": {
   "display_name": "base",
   "language": "python",
   "name": "python3"
  },
  "language_info": {
   "codemirror_mode": {
    "name": "ipython",
    "version": 3
   },
   "file_extension": ".py",
   "mimetype": "text/x-python",
   "name": "python",
   "nbconvert_exporter": "python",
   "pygments_lexer": "ipython3",
   "version": "3.11.8"
  }
 },
 "nbformat": 4,
 "nbformat_minor": 2
}
