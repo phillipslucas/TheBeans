{
 "cells": [
  {
   "cell_type": "markdown",
   "metadata": {},
   "source": [
    "[![image](https://colab.research.google.com/assets/colab-badge.svg)](https://colab.research.google.com/github/phillipslucas/TheBeans/blob/main/docs/examples/quickstart.ipynb)"
   ]
  },
  {
   "cell_type": "code",
   "execution_count": 3,
   "metadata": {},
   "outputs": [
    {
     "name": "stdout",
     "output_type": "stream",
     "text": [
      "Requirement already satisfied: thebeans in c:\\users\\phill\\miniconda3\\envs\\geo\\lib\\site-packages (0.0.8)Note: you may need to restart the kernel to use updated packages.\n"
     ]
    },
    {
     "name": "stderr",
     "output_type": "stream",
     "text": [
      "WARNING: Skipping c:\\Users\\phill\\miniconda3\\envs\\geo\\Lib\\site-packages\\vtk-9.2.6.egg-info due to invalid metadata entry 'name'\n",
      "WARNING: Skipping c:\\Users\\phill\\miniconda3\\envs\\geo\\Lib\\site-packages\\vtk-9.2.6.egg-info due to invalid metadata entry 'name'\n"
     ]
    },
    {
     "name": "stdout",
     "output_type": "stream",
     "text": [
      "\n",
      "Requirement already satisfied: numpy in c:\\users\\phill\\miniconda3\\envs\\geo\\lib\\site-packages (from thebeans) (1.26.4)\n",
      "Requirement already satisfied: ipyleaflet in c:\\users\\phill\\miniconda3\\envs\\geo\\lib\\site-packages (from thebeans) (0.18.2)\n",
      "Requirement already satisfied: pandas in c:\\users\\phill\\miniconda3\\envs\\geo\\lib\\site-packages (from thebeans) (1.5.3)\n",
      "Requirement already satisfied: ipywidgets<9,>=7.6.0 in c:\\users\\phill\\miniconda3\\envs\\geo\\lib\\site-packages (from ipyleaflet->thebeans) (8.1.2)\n",
      "Requirement already satisfied: traittypes<3,>=0.2.1 in c:\\users\\phill\\miniconda3\\envs\\geo\\lib\\site-packages (from ipyleaflet->thebeans) (0.2.1)\n",
      "Requirement already satisfied: xyzservices>=2021.8.1 in c:\\users\\phill\\miniconda3\\envs\\geo\\lib\\site-packages (from ipyleaflet->thebeans) (2023.10.1)\n",
      "Requirement already satisfied: branca>=0.5.0 in c:\\users\\phill\\miniconda3\\envs\\geo\\lib\\site-packages (from ipyleaflet->thebeans) (0.7.1)\n",
      "Requirement already satisfied: python-dateutil>=2.8.1 in c:\\users\\phill\\miniconda3\\envs\\geo\\lib\\site-packages (from pandas->thebeans) (2.9.0)\n",
      "Requirement already satisfied: pytz>=2020.1 in c:\\users\\phill\\miniconda3\\envs\\geo\\lib\\site-packages (from pandas->thebeans) (2024.1)\n",
      "Requirement already satisfied: jinja2>=3 in c:\\users\\phill\\miniconda3\\envs\\geo\\lib\\site-packages (from branca>=0.5.0->ipyleaflet->thebeans) (3.1.3)\n",
      "Requirement already satisfied: comm>=0.1.3 in c:\\users\\phill\\miniconda3\\envs\\geo\\lib\\site-packages (from ipywidgets<9,>=7.6.0->ipyleaflet->thebeans) (0.2.1)\n",
      "Requirement already satisfied: ipython>=6.1.0 in c:\\users\\phill\\miniconda3\\envs\\geo\\lib\\site-packages (from ipywidgets<9,>=7.6.0->ipyleaflet->thebeans) (8.22.2)\n",
      "Requirement already satisfied: traitlets>=4.3.1 in c:\\users\\phill\\miniconda3\\envs\\geo\\lib\\site-packages (from ipywidgets<9,>=7.6.0->ipyleaflet->thebeans) (5.14.1)\n",
      "Requirement already satisfied: widgetsnbextension~=4.0.10 in c:\\users\\phill\\miniconda3\\envs\\geo\\lib\\site-packages (from ipywidgets<9,>=7.6.0->ipyleaflet->thebeans) (4.0.10)\n",
      "Requirement already satisfied: jupyterlab-widgets~=3.0.10 in c:\\users\\phill\\miniconda3\\envs\\geo\\lib\\site-packages (from ipywidgets<9,>=7.6.0->ipyleaflet->thebeans) (3.0.10)\n",
      "Requirement already satisfied: six>=1.5 in c:\\users\\phill\\miniconda3\\envs\\geo\\lib\\site-packages (from python-dateutil>=2.8.1->pandas->thebeans) (1.16.0)\n",
      "Requirement already satisfied: decorator in c:\\users\\phill\\miniconda3\\envs\\geo\\lib\\site-packages (from ipython>=6.1.0->ipywidgets<9,>=7.6.0->ipyleaflet->thebeans) (5.1.1)\n",
      "Requirement already satisfied: jedi>=0.16 in c:\\users\\phill\\miniconda3\\envs\\geo\\lib\\site-packages (from ipython>=6.1.0->ipywidgets<9,>=7.6.0->ipyleaflet->thebeans) (0.19.1)\n",
      "Requirement already satisfied: matplotlib-inline in c:\\users\\phill\\miniconda3\\envs\\geo\\lib\\site-packages (from ipython>=6.1.0->ipywidgets<9,>=7.6.0->ipyleaflet->thebeans) (0.1.6)\n",
      "Requirement already satisfied: prompt-toolkit<3.1.0,>=3.0.41 in c:\\users\\phill\\miniconda3\\envs\\geo\\lib\\site-packages (from ipython>=6.1.0->ipywidgets<9,>=7.6.0->ipyleaflet->thebeans) (3.0.42)\n",
      "Requirement already satisfied: pygments>=2.4.0 in c:\\users\\phill\\miniconda3\\envs\\geo\\lib\\site-packages (from ipython>=6.1.0->ipywidgets<9,>=7.6.0->ipyleaflet->thebeans) (2.17.2)\n",
      "Requirement already satisfied: stack-data in c:\\users\\phill\\miniconda3\\envs\\geo\\lib\\site-packages (from ipython>=6.1.0->ipywidgets<9,>=7.6.0->ipyleaflet->thebeans) (0.6.2)\n",
      "Requirement already satisfied: colorama in c:\\users\\phill\\miniconda3\\envs\\geo\\lib\\site-packages (from ipython>=6.1.0->ipywidgets<9,>=7.6.0->ipyleaflet->thebeans) (0.4.6)\n",
      "Requirement already satisfied: MarkupSafe>=2.0 in c:\\users\\phill\\miniconda3\\envs\\geo\\lib\\site-packages (from jinja2>=3->branca>=0.5.0->ipyleaflet->thebeans) (2.1.5)\n",
      "Requirement already satisfied: parso<0.9.0,>=0.8.3 in c:\\users\\phill\\miniconda3\\envs\\geo\\lib\\site-packages (from jedi>=0.16->ipython>=6.1.0->ipywidgets<9,>=7.6.0->ipyleaflet->thebeans) (0.8.3)\n",
      "Requirement already satisfied: wcwidth in c:\\users\\phill\\miniconda3\\envs\\geo\\lib\\site-packages (from prompt-toolkit<3.1.0,>=3.0.41->ipython>=6.1.0->ipywidgets<9,>=7.6.0->ipyleaflet->thebeans) (0.2.13)\n",
      "Requirement already satisfied: executing>=1.2.0 in c:\\users\\phill\\miniconda3\\envs\\geo\\lib\\site-packages (from stack-data->ipython>=6.1.0->ipywidgets<9,>=7.6.0->ipyleaflet->thebeans) (2.0.1)\n",
      "Requirement already satisfied: asttokens>=2.1.0 in c:\\users\\phill\\miniconda3\\envs\\geo\\lib\\site-packages (from stack-data->ipython>=6.1.0->ipywidgets<9,>=7.6.0->ipyleaflet->thebeans) (2.4.1)\n",
      "Requirement already satisfied: pure-eval in c:\\users\\phill\\miniconda3\\envs\\geo\\lib\\site-packages (from stack-data->ipython>=6.1.0->ipywidgets<9,>=7.6.0->ipyleaflet->thebeans) (0.2.2)\n"
     ]
    }
   ],
   "source": [
    "pip install thebeans"
   ]
  },
  {
   "cell_type": "code",
   "execution_count": 2,
   "metadata": {},
   "outputs": [
    {
     "data": {
      "application/vnd.jupyter.widget-view+json": {
       "model_id": "02cf0ec2fe8f4908abe627c5d3da47cb",
       "version_major": 2,
       "version_minor": 0
      },
      "text/plain": [
       "Map(center=[0, 0], controls=(ZoomControl(options=['position', 'zoom_in_text', 'zoom_in_title', 'zoom_out_text'…"
      ]
     },
     "execution_count": 2,
     "metadata": {},
     "output_type": "execute_result"
    }
   ],
   "source": [
    "#Import thebeans and initiate a map object.\n",
    "\n",
    "import thebeans\n",
    "\n",
    "m = thebeans.Map()\n",
    "\n",
    "m"
   ]
  },
  {
   "cell_type": "code",
   "execution_count": null,
   "metadata": {},
   "outputs": [],
   "source": [
    "#Checkout toolbar and map widget navigation aids.\n",
    "\n",
    "m.add_toolbar() \n",
    "m.add_latlong_widget()"
   ]
  },
  {
   "cell_type": "code",
   "execution_count": null,
   "metadata": {},
   "outputs": [],
   "source": [
    "#Explore map functionality tools\n",
    "\n",
    "m.add_opacity_slider(position= \"topleft\")\n",
    "m.add_zoom_slider()\n",
    "m.add_basemap(\"Esri.WorldImagery\")"
   ]
  },
  {
   "cell_type": "code",
   "execution_count": null,
   "metadata": {},
   "outputs": [],
   "source": [
    "#Add rasters and images to the map through the map object.\n",
    "\n",
    "m.add_raster(\"https://github.com/phillipslucas/databeans/releases/download/v0.0.1/cub30int.tif\")\n",
    "# m.add_image()\n",
    "# m.add_tile_layer()\n",
    "\n",
    "m"
   ]
  },
  {
   "cell_type": "code",
   "execution_count": null,
   "metadata": {},
   "outputs": [],
   "source": [
    "#Add vectors to the map through the map object.\n",
    "\n",
    "m.add_vector(\"https://github.com/phillipslucas/databeans/releases/download/v0.0.1/StudyBox.geojson\")\n",
    "# m.add_shp()\n",
    "# m.add_geojson()\n"
   ]
  },
  {
   "cell_type": "code",
   "execution_count": null,
   "metadata": {},
   "outputs": [],
   "source": [
    "#Casually create a hydrologic network and visualize the outputs in matplotlib plots.\n",
    "\n",
    "\n",
    "m.add_casual_hydrologic_network()"
   ]
  }
 ],
 "metadata": {
  "kernelspec": {
   "display_name": "geo",
   "language": "python",
   "name": "python3"
  },
  "language_info": {
   "codemirror_mode": {
    "name": "ipython",
    "version": 3
   },
   "file_extension": ".py",
   "mimetype": "text/x-python",
   "name": "python",
   "nbconvert_exporter": "python",
   "pygments_lexer": "ipython3",
   "version": "3.11.8"
  }
 },
 "nbformat": 4,
 "nbformat_minor": 2
}
