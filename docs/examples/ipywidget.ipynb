{
 "cells": [
  {
   "cell_type": "code",
   "execution_count": null,
   "metadata": {},
   "outputs": [],
   "source": [
    "#jupyter notebook front end\n",
    "#.py and kernel backend\n",
    "#so you put stuff in the front end and it sends it to the backend\n",
    "\n"
   ]
  },
  {
   "cell_type": "code",
   "execution_count": null,
   "metadata": {},
   "outputs": [],
   "source": [
    "import thebeans\n",
    "import ipywidgets as widgets\n",
    "\n",
    "m = thebeans.Map()\n",
    "m"
   ]
  },
  {
   "cell_type": "code",
   "execution_count": null,
   "metadata": {},
   "outputs": [],
   "source": [
    "int_range = widgets.IntSlider()\n",
    "\n",
    "def on_value_change(change):\n",
    "    m.layers[-1].opacity = change['new']\n",
    "    #with output:\n",
    "        output.clear_output()\n",
    "        print(f\"Old values: {change['old']} New values: {change['new']}\")\n",
    "\n",
    "int_range.observe(on_value_change, names=\"value\")\n",
    "int_range"
   ]
  },
  {
   "cell_type": "code",
   "execution_count": null,
   "metadata": {},
   "outputs": [],
   "source": []
  }
 ],
 "metadata": {
  "kernelspec": {
   "display_name": "base",
   "language": "python",
   "name": "python3"
  },
  "language_info": {
   "codemirror_mode": {
    "name": "ipython",
    "version": 3
   },
   "file_extension": ".py",
   "mimetype": "text/x-python",
   "name": "python",
   "nbconvert_exporter": "python",
   "pygments_lexer": "ipython3",
   "version": "3.11.8"
  }
 },
 "nbformat": 4,
 "nbformat_minor": 2
}
