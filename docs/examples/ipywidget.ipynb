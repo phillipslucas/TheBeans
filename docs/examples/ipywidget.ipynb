{
 "cells": [
  {
   "cell_type": "code",
   "execution_count": null,
   "metadata": {},
   "outputs": [],
   "source": [
    "#jupyter notebook front end\n",
    "#.py and kernel backend\n",
    "#so you put stuff in the front end and it sends it to the backend\n",
    "\n"
   ]
  },
  {
   "cell_type": "code",
   "execution_count": null,
   "metadata": {},
   "outputs": [],
   "source": [
    "import thebeans\n",
    "import ipywidgets as widgets\n",
    "\n",
    "m = thebeans.Map()\n",
    "m"
   ]
  },
  {
   "cell_type": "code",
   "execution_count": null,
   "metadata": {},
   "outputs": [],
   "source": [
    "int_range = widgets.IntSlider()\n",
    "\n",
    "def on_value_change(change):\n",
    "    m.layers[-1].opacity = change['new']\n",
    "    #with output:\n",
    "        output.clear_output()\n",
    "        print(f\"Old values: {change['old']} New values: {change['new']}\")\n",
    "\n",
    "int_range.observe(on_value_change, names=\"value\")\n",
    "int_range"
   ]
  },
  {
   "cell_type": "code",
   "execution_count": 1,
   "metadata": {},
   "outputs": [],
   "source": [
    "import thebeans"
   ]
  },
  {
   "cell_type": "code",
   "execution_count": 2,
   "metadata": {},
   "outputs": [
    {
     "ename": "TypeError",
     "evalue": "Map.add_opacity_slider() missing 1 required positional argument: 'layer'",
     "output_type": "error",
     "traceback": [
      "\u001b[1;31m---------------------------------------------------------------------------\u001b[0m",
      "\u001b[1;31mTypeError\u001b[0m                                 Traceback (most recent call last)",
      "Cell \u001b[1;32mIn[2], line 3\u001b[0m\n\u001b[0;32m      1\u001b[0m m \u001b[38;5;241m=\u001b[39m thebeans\u001b[38;5;241m.\u001b[39mMap()\n\u001b[0;32m      2\u001b[0m m\u001b[38;5;241m.\u001b[39madd_basemap(\u001b[38;5;124m\"\u001b[39m\u001b[38;5;124mOpenTopoMap\u001b[39m\u001b[38;5;124m\"\u001b[39m)\n\u001b[1;32m----> 3\u001b[0m \u001b[43mm\u001b[49m\u001b[38;5;241;43m.\u001b[39;49m\u001b[43madd_opacity_slider\u001b[49m\u001b[43m(\u001b[49m\u001b[43m)\u001b[49m\n\u001b[0;32m      4\u001b[0m m\n",
      "\u001b[1;31mTypeError\u001b[0m: Map.add_opacity_slider() missing 1 required positional argument: 'layer'"
     ]
    }
   ],
   "source": [
    "m = thebeans.Map()\n",
    "m.add_basemap(\"OpenTopoMap\")\n",
    "m.add_opacity_slider()\n",
    "m"
   ]
  }
 ],
 "metadata": {
  "kernelspec": {
   "display_name": "base",
   "language": "python",
   "name": "python3"
  },
  "language_info": {
   "codemirror_mode": {
    "name": "ipython",
    "version": 3
   },
   "file_extension": ".py",
   "mimetype": "text/x-python",
   "name": "python",
   "nbconvert_exporter": "python",
   "pygments_lexer": "ipython3",
   "version": "3.11.8"
  }
 },
 "nbformat": 4,
 "nbformat_minor": 2
}
