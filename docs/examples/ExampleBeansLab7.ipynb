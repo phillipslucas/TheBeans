{
 "cells": [
  {
   "cell_type": "markdown",
   "metadata": {},
   "source": [
    "[![image](https://colab.research.google.com/assets/colab-badge.svg)](https://colab.research.google.com/github/phillipslucas/TheBeans/blob/main/docs/examples/ExampleBeansLab7.ipynb)"
   ]
  },
  {
   "cell_type": "code",
   "execution_count": 1,
   "metadata": {},
   "outputs": [],
   "source": [
    "import thebeans\n"
   ]
  },
  {
   "cell_type": "code",
   "execution_count": 2,
   "metadata": {},
   "outputs": [
    {
     "data": {
      "application/vnd.jupyter.widget-view+json": {
       "model_id": "518be7eb57d54be89d0815c550990b4b",
       "version_major": 2,
       "version_minor": 0
      },
      "text/plain": [
       "Map(center=[48.513, -120.218], controls=(ZoomControl(options=['position', 'zoom_in_text', 'zoom_in_title', 'zo…"
      ]
     },
     "execution_count": 2,
     "metadata": {},
     "output_type": "execute_result"
    }
   ],
   "source": [
    "#thebeans default map\n",
    "\n",
    "m = thebeans.Map()\n",
    "m"
   ]
  },
  {
   "cell_type": "code",
   "execution_count": 3,
   "metadata": {},
   "outputs": [
    {
     "data": {
      "text/plain": [
       "(TileLayer(attribution='&copy; <a href=\"https://www.openstreetmap.org/copyright\">OpenStreetMap</a> contributors', base=True, max_zoom=19, min_zoom=1, name='OpenStreetMap.Mapnik', options=['attribution', 'bounds', 'detect_retina', 'max_native_zoom', 'max_zoom', 'min_native_zoom', 'min_zoom', 'no_wrap', 'tile_size', 'tms', 'zoom_offset'], url='https://tile.openstreetmap.org/{z}/{x}/{y}.png'),)"
      ]
     },
     "execution_count": 3,
     "metadata": {},
     "output_type": "execute_result"
    }
   ],
   "source": [
    "#Get layer info from map\n",
    "m.layers\n",
    "\n"
   ]
  },
  {
   "cell_type": "code",
   "execution_count": 4,
   "metadata": {},
   "outputs": [
    {
     "data": {
      "application/vnd.jupyter.widget-view+json": {
       "model_id": "518be7eb57d54be89d0815c550990b4b",
       "version_major": 2,
       "version_minor": 0
      },
      "text/plain": [
       "Map(center=[48.513, -120.218], controls=(ZoomControl(options=['position', 'zoom_in_text', 'zoom_in_title', 'zo…"
      ]
     },
     "execution_count": 4,
     "metadata": {},
     "output_type": "execute_result"
    }
   ],
   "source": [
    "#Change Basemap\n",
    "#the beans allows passing text directly bypassing ipyleaflet formatting for stock ipyleaflet basemaps\n",
    "m.add_basemap(\"Strava.Run\")\n",
    "#m.add_basemap(\"NASAGIBS.ViirsEarthAtNight2012\")\n",
    "m\n"
   ]
  },
  {
   "cell_type": "code",
   "execution_count": 5,
   "metadata": {},
   "outputs": [
    {
     "data": {
      "application/vnd.jupyter.widget-view+json": {
       "model_id": "518be7eb57d54be89d0815c550990b4b",
       "version_major": 2,
       "version_minor": 0
      },
      "text/plain": [
       "Map(center=[48.513, -120.218], controls=(ZoomControl(options=['position', 'zoom_in_text', 'zoom_in_title', 'zo…"
      ]
     },
     "execution_count": 5,
     "metadata": {},
     "output_type": "execute_result"
    }
   ],
   "source": [
    "#thebeans also allows passing just a URL as a tile layer\n",
    "\n",
    "url = \"https://mt1.google.com/vt/lyrs=y&x={x}&y={y}&z={z}\"\n",
    "m.add_tile_layer(url, \"Google Hybrid\")\n",
    "m"
   ]
  },
  {
   "cell_type": "code",
   "execution_count": 6,
   "metadata": {},
   "outputs": [
    {
     "data": {
      "text/plain": [
       "(TileLayer(attribution='&copy; <a href=\"https://www.openstreetmap.org/copyright\">OpenStreetMap</a> contributors', base=True, max_zoom=19, min_zoom=1, name='OpenStreetMap.Mapnik', options=['attribution', 'bounds', 'detect_retina', 'max_native_zoom', 'max_zoom', 'min_native_zoom', 'min_zoom', 'no_wrap', 'tile_size', 'tms', 'zoom_offset'], url='https://tile.openstreetmap.org/{z}/{x}/{y}.png'),\n",
       " TileLayer(name='Strava.Run', options=['attribution', 'bounds', 'detect_retina', 'max_native_zoom', 'max_zoom', 'min_native_zoom', 'min_zoom', 'no_wrap', 'tile_size', 'tms', 'zoom_offset'], url='https://heatmap-external-a.strava.com/tiles/run/bluered/{z}/{x}/{y}.png'),\n",
       " TileLayer(name='Google Hybrid', options=['attribution', 'bounds', 'detect_retina', 'max_native_zoom', 'max_zoom', 'min_native_zoom', 'min_zoom', 'no_wrap', 'tile_size', 'tms', 'zoom_offset'], url='https://mt1.google.com/vt/lyrs=y&x={x}&y={y}&z={z}'))"
      ]
     },
     "execution_count": 6,
     "metadata": {},
     "output_type": "execute_result"
    }
   ],
   "source": [
    "m.layers"
   ]
  },
  {
   "cell_type": "code",
   "execution_count": 7,
   "metadata": {},
   "outputs": [
    {
     "data": {
      "application/vnd.jupyter.widget-view+json": {
       "model_id": "518be7eb57d54be89d0815c550990b4b",
       "version_major": 2,
       "version_minor": 0
      },
      "text/plain": [
       "Map(bottom=3030.0, center=[48.513, -120.218], controls=(ZoomControl(options=['position', 'zoom_in_text', 'zoom…"
      ]
     },
     "execution_count": 7,
     "metadata": {},
     "output_type": "execute_result"
    }
   ],
   "source": [
    "m.clear_layers() #clears all layers\n",
    "\n",
    "m.add_basemap(\"OpenTopoMap\")\n",
    "m"
   ]
  },
  {
   "cell_type": "code",
   "execution_count": 8,
   "metadata": {},
   "outputs": [
    {
     "data": {
      "application/vnd.jupyter.widget-view+json": {
       "model_id": "518be7eb57d54be89d0815c550990b4b",
       "version_major": 2,
       "version_minor": 0
      },
      "text/plain": [
       "Map(bottom=3030.0, center=[48.513, -120.218], controls=(ZoomControl(options=['position', 'zoom_in_text', 'zoom…"
      ]
     },
     "execution_count": 8,
     "metadata": {},
     "output_type": "execute_result"
    }
   ],
   "source": [
    "#thebeans abides by the geojson visualizer format\n",
    "\n",
    "#local = r\"C:\\Users\\phill\\Downloads\\us_regions.geojson\"\n",
    "#url = \"https://github.com/opengeos/datasets/releases/download/us/us_regions.geojson\"\n",
    "\n",
    "m.add_geojson('StudyArea.geojson', \n",
    "              \"Study Area\", \n",
    "              style = {\n",
    "                \"color\": \"yellow\",\n",
    "                \"weight\": 2,\n",
    "                \"opacity\": 0.8,\n",
    "                \"dashArray\": \"9\",\n",
    "})\n",
    "m"
   ]
  },
  {
   "cell_type": "code",
   "execution_count": 10,
   "metadata": {},
   "outputs": [
    {
     "ename": "NameError",
     "evalue": "name 'shp' is not defined",
     "output_type": "error",
     "traceback": [
      "\u001b[1;31m---------------------------------------------------------------------------\u001b[0m",
      "\u001b[1;31mNameError\u001b[0m                                 Traceback (most recent call last)",
      "Cell \u001b[1;32mIn[10], line 2\u001b[0m\n\u001b[0;32m      1\u001b[0m \u001b[38;5;66;03m#add shapefiles\u001b[39;00m\n\u001b[1;32m----> 2\u001b[0m m\u001b[38;5;241m.\u001b[39madd_shp(\u001b[43mshp\u001b[49m\u001b[38;5;241m/\u001b[39mCedarCubMuck\u001b[38;5;241m.\u001b[39mshp)\n",
      "\u001b[1;31mNameError\u001b[0m: name 'shp' is not defined"
     ]
    }
   ],
   "source": [
    "#add shapefiles\n",
    "m.add_shp(shp/CedarCubMuck.shp)"
   ]
  },
  {
   "cell_type": "code",
   "execution_count": null,
   "metadata": {},
   "outputs": [],
   "source": [
    "add vector"
   ]
  },
  {
   "cell_type": "code",
   "execution_count": null,
   "metadata": {},
   "outputs": [],
   "source": [
    "add raster"
   ]
  },
  {
   "cell_type": "code",
   "execution_count": null,
   "metadata": {},
   "outputs": [],
   "source": []
  },
  {
   "cell_type": "code",
   "execution_count": null,
   "metadata": {},
   "outputs": [],
   "source": []
  },
  {
   "cell_type": "code",
   "execution_count": 11,
   "metadata": {},
   "outputs": [],
   "source": [
    "import ee"
   ]
  },
  {
   "cell_type": "code",
   "execution_count": 14,
   "metadata": {},
   "outputs": [],
   "source": [
    "ee.Authenticate()\n",
    "ee.Initialize()\n"
   ]
  },
  {
   "cell_type": "code",
   "execution_count": 16,
   "metadata": {},
   "outputs": [],
   "source": [
    "import geemap"
   ]
  },
  {
   "cell_type": "code",
   "execution_count": 24,
   "metadata": {},
   "outputs": [
    {
     "data": {
      "text/html": [
       "\n",
       "            <style>\n",
       "                .geemap-dark {\n",
       "                    --jp-widgets-color: white;\n",
       "                    --jp-widgets-label-color: white;\n",
       "                    --jp-ui-font-color1: white;\n",
       "                    --jp-layout-color2: #454545;\n",
       "                    background-color: #383838;\n",
       "                }\n",
       "\n",
       "                .geemap-dark .jupyter-button {\n",
       "                    --jp-layout-color3: #383838;\n",
       "                }\n",
       "\n",
       "                .geemap-colab {\n",
       "                    background-color: var(--colab-primary-surface-color, white);\n",
       "                }\n",
       "\n",
       "                .geemap-colab .jupyter-button {\n",
       "                    --jp-layout-color3: var(--colab-primary-surface-color, white);\n",
       "                }\n",
       "            </style>\n",
       "            "
      ],
      "text/plain": [
       "<IPython.core.display.HTML object>"
      ]
     },
     "metadata": {},
     "output_type": "display_data"
    },
    {
     "data": {
      "application/vnd.jupyter.widget-view+json": {
       "model_id": "76f4b9b3548747278f2e471bfcac8c13",
       "version_major": 2,
       "version_minor": 0
      },
      "text/plain": [
       "Map(center=[-120.2, 48.5], controls=(WidgetControl(options=['position', 'transparent_bg'], widget=SearchDataGU…"
      ]
     },
     "execution_count": 24,
     "metadata": {},
     "output_type": "execute_result"
    }
   ],
   "source": [
    "def mask_edge(image):\n",
    "  edge = image.lt(-30.0)\n",
    "  masked_image = image.mask().And(edge.Not())\n",
    "  return image.updateMask(masked_image)\n",
    "\n",
    "\n",
    "img_vv = (\n",
    "    ee.ImageCollection('COPERNICUS/S1_GRD')\n",
    "    .filter(ee.Filter.listContains('transmitterReceiverPolarisation', 'VV'))\n",
    "    .filter(ee.Filter.eq('instrumentMode', 'IW'))\n",
    "    .select('VV')\n",
    "    .map(mask_edge)\n",
    ")\n",
    "\n",
    "desc = img_vv.filter(ee.Filter.eq('orbitProperties_pass', 'DESCENDING'))\n",
    "asc = img_vv.filter(ee.Filter.eq('orbitProperties_pass', 'ASCENDING'))\n",
    "\n",
    "PreFire = ee.Filter.date('2021-06-01', '2021-07-08')\n",
    "PostFirePreSlide = ee.Filter.date('2022-06-01', '2022-07-03')\n",
    "PostSlide = ee.Filter.date('2022-07-05', '2022-09-30')\n",
    "\n",
    "desc_change = ee.Image.cat(\n",
    "    desc.filter(PreFire).mean(),\n",
    "    desc.filter(PostFirePreSlide).mean(),\n",
    "    desc.filter(PostSlide).mean(),\n",
    ")\n",
    "\n",
    "asc_change = ee.Image.cat(\n",
    "    asc.filter(PreFire).mean(),\n",
    "    asc.filter(PostFirePreSlide).mean(),\n",
    "    asc.filter(PostSlide).mean(),\n",
    ")\n",
    "\n",
    "m = geemap.Map()\n",
    "m.set_center(48.5,-120.2, 6)\n",
    "m.add_layer(asc_change, {'min': -25, 'max': 5}, 'Multi-T Mean ASC', True)\n",
    "m.add_layer(desc_change, {'min': -25, 'max': 5}, 'Multi-T Mean DESC', True)\n",
    "m.add_geojson('StudyArea.geojson')\n",
    "\n",
    "m\n"
   ]
  }
 ],
 "metadata": {
  "kernelspec": {
   "display_name": "base",
   "language": "python",
   "name": "python3"
  },
  "language_info": {
   "codemirror_mode": {
    "name": "ipython",
    "version": 3
   },
   "file_extension": ".py",
   "mimetype": "text/x-python",
   "name": "python",
   "nbconvert_exporter": "python",
   "pygments_lexer": "ipython3",
   "version": "3.11.8"
  }
 },
 "nbformat": 4,
 "nbformat_minor": 2
}
