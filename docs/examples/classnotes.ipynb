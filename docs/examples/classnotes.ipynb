{
 "cells": [
  {
   "cell_type": "code",
   "execution_count": null,
   "metadata": {},
   "outputs": [],
   "source": []
  },
  {
   "cell_type": "code",
   "execution_count": null,
   "metadata": {},
   "outputs": [],
   "source": [
    "#create slider outside of map, \n",
    "zoom_slider = IntSlider(description='Zoom level:', min=0, max=15, value=7) #integer slyder, zoome level label\n"
   ]
  },
  {
   "cell_type": "code",
   "execution_count": null,
   "metadata": {},
   "outputs": [],
   "source": [
    "# passes zoom slider value, which can be read, IF LINKED, by other widgets.\n",
    "zoom_slider.value"
   ]
  },
  {
   "cell_type": "code",
   "execution_count": 1,
   "metadata": {},
   "outputs": [
    {
     "ename": "NameError",
     "evalue": "name 'thebeans' is not defined",
     "output_type": "error",
     "traceback": [
      "\u001b[1;31m---------------------------------------------------------------------------\u001b[0m",
      "\u001b[1;31mNameError\u001b[0m                                 Traceback (most recent call last)",
      "Cell \u001b[1;32mIn[1], line 8\u001b[0m\n\u001b[0;32m      5\u001b[0m \u001b[38;5;28;01mfrom\u001b[39;00m \u001b[38;5;21;01mipyleaflet\u001b[39;00m \u001b[38;5;28;01mimport\u001b[39;00m  basemaps, WidgetControl\n\u001b[0;32m      6\u001b[0m \u001b[38;5;28;01mfrom\u001b[39;00m \u001b[38;5;21;01mipywidgets\u001b[39;00m \u001b[38;5;28;01mimport\u001b[39;00m IntSlider, ColorPicker, jslink, Output \u001b[38;5;66;03m#output super powerful upload of files\u001b[39;00m\n\u001b[1;32m----> 8\u001b[0m m \u001b[38;5;241m=\u001b[39m \u001b[43mthebeans\u001b[49m\u001b[38;5;241m.\u001b[39mMap(center\u001b[38;5;241m=\u001b[39m(\u001b[38;5;241m46.01\u001b[39m, \u001b[38;5;241m6.16\u001b[39m), zoom\u001b[38;5;241m=\u001b[39m\u001b[38;5;241m12\u001b[39m, basemap\u001b[38;5;241m=\u001b[39mbasemaps\u001b[38;5;241m.\u001b[39mOpenTopoMap)\n\u001b[0;32m      9\u001b[0m zoom_slider \u001b[38;5;241m=\u001b[39m IntSlider(description\u001b[38;5;241m=\u001b[39m\u001b[38;5;124m'\u001b[39m\u001b[38;5;124mZoom level:\u001b[39m\u001b[38;5;124m'\u001b[39m, \u001b[38;5;28mmin\u001b[39m\u001b[38;5;241m=\u001b[39m\u001b[38;5;241m0\u001b[39m, \u001b[38;5;28mmax\u001b[39m\u001b[38;5;241m=\u001b[39m\u001b[38;5;241m17\u001b[39m, value\u001b[38;5;241m=\u001b[39m\u001b[38;5;241m7\u001b[39m) \u001b[38;5;66;03m#integer slyder, zoome level label, max value is 15 but bug allows you to zoom in to 17. change to 24 to avoid confusion.\u001b[39;00m\n\u001b[0;32m     10\u001b[0m jslink((zoom_slider, \u001b[38;5;124m'\u001b[39m\u001b[38;5;124mvalue\u001b[39m\u001b[38;5;124m'\u001b[39m), (m, \u001b[38;5;124m'\u001b[39m\u001b[38;5;124mzoom\u001b[39m\u001b[38;5;124m'\u001b[39m)) \u001b[38;5;66;03m#VERY IMPORTANT LINE, links control to the widget. change value of this slider changes value of zoom on map\u001b[39;00m\n",
      "\u001b[1;31mNameError\u001b[0m: name 'thebeans' is not defined"
     ]
    }
   ],
   "source": [
    "#ipyleaflet build off ipywidgets\n",
    "\n",
    "#\n",
    "\n",
    "from ipyleaflet import  basemaps, WidgetControl\n",
    "from ipywidgets import IntSlider, ColorPicker, jslink, Output #output super powerful upload of files\n",
    "\n",
    "m = thebeans.Map(center=(46.01, 6.16), zoom=12, basemap=basemaps.OpenTopoMap)\n",
    "zoom_slider = IntSlider(description='Zoom level:', min=0, max=17, value=7) #integer slyder, zoome level label, max value is 15 but bug allows you to zoom in to 17. change to 24 to avoid confusion.\n",
    "jslink((zoom_slider, 'value'), (m, 'zoom')) #VERY IMPORTANT LINE, links control to the widget. change value of this slider changes value of zoom on map\n",
    "widget_control1 = WidgetControl(widget=zoom_slider, position='topright') #widget control places the widget\n",
    "m.add(widget_control1)\n",
    "\n",
    "out_widget = Output(layout={'border': '1px solid black'})\n",
    "output_control = WidgetControl(widget=out_widget, position='bottomright')\n",
    "m.add(output_control) #adds nothing because haven't put anything in it yet?\n",
    "\n",
    "with out_widget:\n",
    "    print('Hello world!') #Adds something to the out_widget\n",
    "    #can pass datasets and plots to it\n",
    "    #sample data\n",
    "    x = [4, 23, 4, 5, 6, 9,8, 1]\n",
    "    y = [5, 6, 7, 8, 9, 10, 11, 12]\n",
    "\n",
    "    fig, ax = plt.subplots()\n",
    "\n",
    "    ax.plot(x, y)\n",
    "\n",
    "#out_widget.clear_output() #clears output\n",
    "\n",
    "\n",
    "m\n",
    "# color_picker = ColorPicker(description='Pick a color:')\n",
    "# widget_control2 = WidgetControl(widget=color_picker, position='bottomright')\n",
    "# m.add(widget_control2)\n",
    "# m"
   ]
  },
  {
   "cell_type": "code",
   "execution_count": null,
   "metadata": {},
   "outputs": [],
   "source": [
    "import geopandas as gpd\n",
    "\n",
    "\n",
    "\n",
    "df = gpd.read_file('StudyArea.geojson')\n",
    "\n",
    "#re-project to local stateplane 2285 - North WA, 4326 WGS 84\n",
    "df = df.to_crs(epsg=4326)\n",
    "\n",
    "df[\"lon\"] = df[\"geometry\"].centroid.x\n",
    "df[\"lat\"] = df[\"geometry\"].centroid.y\n",
    "df\n"
   ]
  }
 ],
 "metadata": {
  "kernelspec": {
   "display_name": "base",
   "language": "python",
   "name": "python3"
  },
  "language_info": {
   "codemirror_mode": {
    "name": "ipython",
    "version": 3
   },
   "file_extension": ".py",
   "mimetype": "text/x-python",
   "name": "python",
   "nbconvert_exporter": "python",
   "pygments_lexer": "ipython3",
   "version": "3.11.8"
  }
 },
 "nbformat": 4,
 "nbformat_minor": 2
}
