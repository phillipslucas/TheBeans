{
 "cells": [
  {
   "cell_type": "code",
   "execution_count": 4,
   "metadata": {},
   "outputs": [
    {
     "ename": "NameError",
     "evalue": "name 'center' is not defined",
     "output_type": "error",
     "traceback": [
      "\u001b[1;31m---------------------------------------------------------------------------\u001b[0m",
      "\u001b[1;31mNameError\u001b[0m                                 Traceback (most recent call last)",
      "Cell \u001b[1;32mIn[4], line 9\u001b[0m\n\u001b[0;32m      2\u001b[0m \u001b[38;5;28;01mfrom\u001b[39;00m \u001b[38;5;21;01mthebeans\u001b[39;00m \u001b[38;5;28;01mimport\u001b[39;00m Map\n\u001b[0;32m      6\u001b[0m m \u001b[38;5;241m=\u001b[39m Map(basemap\u001b[38;5;241m=\u001b[39mbasemaps\u001b[38;5;241m.\u001b[39mNASAGIBS\u001b[38;5;241m.\u001b[39mViirsTrueColorCR)\n\u001b[1;32m----> 9\u001b[0m marker \u001b[38;5;241m=\u001b[39m Marker(location \u001b[38;5;241m=\u001b[39m \u001b[43mcenter\u001b[49m, draggable\u001b[38;5;241m=\u001b[39m\u001b[38;5;28;01mTrue\u001b[39;00m)\n\u001b[0;32m     10\u001b[0m m\u001b[38;5;241m.\u001b[39madd(marker);\n\u001b[0;32m     12\u001b[0m display(m)\n",
      "\u001b[1;31mNameError\u001b[0m: name 'center' is not defined"
     ]
    }
   ],
   "source": [
    "import thebeans\n",
    "from thebeans import Map\n",
    "\n",
    "\n",
    "\n",
    "m = Map(\n",
    "    basemap=basemaps.NASAGIBS.ViirsTrueColorCR\n",
    "    center =\n",
    "    zoom =\n",
    ")\n",
    "\n",
    "\n",
    "marker = Marker(location = center, draggable=True)\n",
    "m.add(marker);\n",
    "\n",
    "display(m)\n"
   ]
  },
  {
   "cell_type": "code",
   "execution_count": 7,
   "metadata": {},
   "outputs": [
    {
     "data": {
      "text/plain": [
       "'https://a.tile.opentopomap.org/{z}/{x}/{y}.png'"
      ]
     },
     "execution_count": 7,
     "metadata": {},
     "output_type": "execute_result"
    }
   ],
   "source": [
    "eval(\"basemaps.OpenTopoMap\").build_url() #gets URL to add to tile layer"
   ]
  },
  {
   "cell_type": "code",
   "execution_count": 8,
   "metadata": {},
   "outputs": [
    {
     "ename": "AttributeError",
     "evalue": "'tuple' object has no attribute 'interact'",
     "output_type": "error",
     "traceback": [
      "\u001b[1;31m---------------------------------------------------------------------------\u001b[0m",
      "\u001b[1;31mAttributeError\u001b[0m                            Traceback (most recent call last)",
      "Cell \u001b[1;32mIn[8], line 2\u001b[0m\n\u001b[0;32m      1\u001b[0m m\u001b[38;5;241m.\u001b[39mlayers\n\u001b[1;32m----> 2\u001b[0m \u001b[43mm\u001b[49m\u001b[38;5;241;43m.\u001b[39;49m\u001b[43mlayers\u001b[49m\u001b[38;5;241;43m.\u001b[39;49m\u001b[43minteract\u001b[49m(opacity\u001b[38;5;241m=\u001b[39m(\u001b[38;5;241m0.0\u001b[39m,\u001b[38;5;241m1.0\u001b[39m,\u001b[38;5;241m0.1\u001b[39m))\n",
      "\u001b[1;31mAttributeError\u001b[0m: 'tuple' object has no attribute 'interact'"
     ]
    }
   ],
   "source": [
    "m.layers\n",
    "m.layers.interact(opacity=(0.0,1.0,0.1))"
   ]
  },
  {
   "cell_type": "code",
   "execution_count": 6,
   "metadata": {},
   "outputs": [],
   "source": [
    "m  = thebeans.Map() # not sure what\n",
    "\n",
    "url = \"https://mt1.google.com/vt/lyrs=y&x={col}&y={row}&z={level}\"\n",
    "Tile = ipyleaflet.TileLayer(url=url, name=\"Google Hyybrid\", opacity=1)\n"
   ]
  },
  {
   "cell_type": "code",
   "execution_count": 5,
   "metadata": {},
   "outputs": [],
   "source": [
    "#removes data credits at bottom. Takes slice of tuple that map is referencing\n",
    "m.controls = m.controls[:1]\n"
   ]
  },
  {
   "cell_type": "code",
   "execution_count": null,
   "metadata": {},
   "outputs": [],
   "source": [
    "# m = ipyleaflet.Map(center =(40,-100), zoom =4)\n",
    "# m.scroll_wheel_zoom = True\n",
    "# m.add_layers_control()\n",
    "\n",
    "# m"
   ]
  },
  {
   "cell_type": "code",
   "execution_count": null,
   "metadata": {},
   "outputs": [],
   "source": [
    "import os\n",
    "import json\n",
    "import random\n",
    "import requests\n",
    "\n",
    "from ipyleaflet import Map, GeoJSON\n",
    "\n",
    "if not os.path.exists('europe_110.geo.json'):\n",
    "    url = 'https://github.com/jupyter-widgets/ipyleaflet/raw/master/examples/europe_110.geo.json'\n",
    "    r = requests.get(url)\n",
    "    with open('europe_110.geo.json', 'w') as f:\n",
    "        f.write(r.content.decode(\"utf-8\"))\n",
    "\n",
    "with open('europe_110.geo.json', 'r') as f:\n",
    "    data = json.load(f)\n",
    "\n",
    "def random_color(feature):\n",
    "    return {\n",
    "        'color': 'black',\n",
    "        'fillColor': random.choice(['red', 'yellow', 'green', 'orange']),\n",
    "    }\n",
    "\n",
    "m = Map(center=(50.6252978589571, 0.34580993652344), zoom=3)\n",
    "\n",
    "geo_json = GeoJSON(\n",
    "    data=data,\n",
    "    style={\n",
    "        'opacity': 1, 'dashArray': '9', 'fillOpacity': 0.1, 'weight': 1\n",
    "    },\n",
    "    hover_style={\n",
    "        'color': 'white', 'dashArray': '0', 'fillOpacity': 0.5\n",
    "    },\n",
    "    style_callback=random_color\n",
    ")\n",
    "m.add(geo_json)\n",
    "\n",
    "m"
   ]
  },
  {
   "cell_type": "code",
   "execution_count": null,
   "metadata": {},
   "outputs": [],
   "source": [
    "import geohey\n",
    "import thebeans\n",
    "\n",
    "m = geohey.Map()\n",
    "m.add_basemap('OpenTopoMap')\n",
    "m"
   ]
  }
 ],
 "metadata": {
  "kernelspec": {
   "display_name": "geo",
   "language": "python",
   "name": "python3"
  },
  "language_info": {
   "codemirror_mode": {
    "name": "ipython",
    "version": 3
   },
   "file_extension": ".py",
   "mimetype": "text/x-python",
   "name": "python",
   "nbconvert_exporter": "python",
   "pygments_lexer": "ipython3",
   "version": "3.11.8"
  }
 },
 "nbformat": 4,
 "nbformat_minor": 2
}
