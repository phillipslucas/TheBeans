{
 "cells": [
  {
   "cell_type": "code",
   "execution_count": 1,
   "metadata": {},
   "outputs": [
    {
     "data": {
      "application/vnd.jupyter.widget-view+json": {
       "model_id": "775d44b640d042eb953dee53bb501c5b",
       "version_major": 2,
       "version_minor": 0
      },
      "text/plain": [
       "Map(center=[47.7511, -120.7401], controls=(ZoomControl(options=['position', 'zoom_in_text', 'zoom_in_title', '…"
      ]
     },
     "metadata": {},
     "output_type": "display_data"
    }
   ],
   "source": [
    "import thebeans\n",
    "from ipyleaflet import Map, Marker, basemaps\n",
    "\n",
    "center = (47.7511, -120.7401)\n",
    "\n",
    "m = Map(basemap=basemaps.NASAGIBS.ViirsTrueColorCR, center=center, zoom=6)\n",
    "\n",
    "\n",
    "marker = Marker(location=center, draggable=True)\n",
    "m.add(marker);\n",
    "\n",
    "display(m)\n",
    "\n",
    "# Now that the marker is on the Map, you can drag it with your mouse,\n",
    "# it will automatically update the `marker.location` attribute in Python\n",
    "\n",
    "# You can also update the marker location from Python, that will update the\n",
    "# marker location on the Map:\n",
    "marker.location = (47, -120)"
   ]
  },
  {
   "cell_type": "code",
   "execution_count": 5,
   "metadata": {},
   "outputs": [],
   "source": [
    "import ipyleaflet"
   ]
  },
  {
   "cell_type": "code",
   "execution_count": 3,
   "metadata": {},
   "outputs": [
    {
     "data": {
      "text/plain": [
       "'https://a.tile.opentopomap.org/{z}/{x}/{y}.png'"
      ]
     },
     "execution_count": 3,
     "metadata": {},
     "output_type": "execute_result"
    }
   ],
   "source": [
    "eval(\"basemaps.OpenTopoMap\").build_url() #gets URL to add to tile layer"
   ]
  },
  {
   "cell_type": "code",
   "execution_count": null,
   "metadata": {},
   "outputs": [],
   "source": [
    "m.layers\n",
    "m.layers.interact(opacity=(0.0,1.0,0.1))"
   ]
  },
  {
   "cell_type": "code",
   "execution_count": null,
   "metadata": {},
   "outputs": [],
   "source": [
    "m  = thebeans.Map() # not sure whats happening here.\n",
    "\n",
    "url = \"https://mt1.google.com/vt/lyrs=y&x={col}&y={row}&z={level}\"\n",
    "Tile = ipyleaflet.TileLayer(url=url, name=\"Google Hyybrid\", opacity=1)\n"
   ]
  },
  {
   "cell_type": "code",
   "execution_count": null,
   "metadata": {},
   "outputs": [],
   "source": [
    "#removes data credits at bottom. Takes slice of tuple that map is referencing\n",
    "m.controls = m.controls[:1]\n"
   ]
  },
  {
   "cell_type": "code",
   "execution_count": 1,
   "metadata": {},
   "outputs": [
    {
     "ename": "NameError",
     "evalue": "name 'ipyleaflet' is not defined",
     "output_type": "error",
     "traceback": [
      "\u001b[1;31m---------------------------------------------------------------------------\u001b[0m",
      "\u001b[1;31mNameError\u001b[0m                                 Traceback (most recent call last)",
      "Cell \u001b[1;32mIn[1], line 1\u001b[0m\n\u001b[1;32m----> 1\u001b[0m m \u001b[38;5;241m=\u001b[39m \u001b[43mipyleaflet\u001b[49m\u001b[38;5;241m.\u001b[39mMap(center \u001b[38;5;241m=\u001b[39m(\u001b[38;5;241m40\u001b[39m,\u001b[38;5;241m-\u001b[39m\u001b[38;5;241m100\u001b[39m), zoom \u001b[38;5;241m=\u001b[39m\u001b[38;5;241m4\u001b[39m)\n\u001b[0;32m      2\u001b[0m m\u001b[38;5;241m.\u001b[39mscroll_wheel_zoom \u001b[38;5;241m=\u001b[39m \u001b[38;5;28;01mTrue\u001b[39;00m\n\u001b[0;32m      3\u001b[0m m\u001b[38;5;241m.\u001b[39madd_layers_control()\n",
      "\u001b[1;31mNameError\u001b[0m: name 'ipyleaflet' is not defined"
     ]
    }
   ],
   "source": [
    "m = ipyleaflet.Map(center =(40,-100), zoom =4)\n",
    "m.scroll_wheel_zoom = True\n",
    "m.add_layers_control()\n",
    "\n",
    "m"
   ]
  },
  {
   "cell_type": "code",
   "execution_count": null,
   "metadata": {},
   "outputs": [],
   "source": []
  }
 ],
 "metadata": {
  "kernelspec": {
   "display_name": "geo",
   "language": "python",
   "name": "python3"
  },
  "language_info": {
   "codemirror_mode": {
    "name": "ipython",
    "version": 3
   },
   "file_extension": ".py",
   "mimetype": "text/x-python",
   "name": "python",
   "nbconvert_exporter": "python",
   "pygments_lexer": "ipython3",
   "version": "3.11.7"
  }
 },
 "nbformat": 4,
 "nbformat_minor": 2
}
